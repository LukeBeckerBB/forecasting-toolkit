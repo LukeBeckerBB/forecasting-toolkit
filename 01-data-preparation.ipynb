{
 "cells": [
  {
   "cell_type": "markdown",
   "metadata": {},
   "source": [
    "# Data preparation\n",
    "\n",
    "A collection of commonly required data preparation and transformation operations for time series analyis.\n",
    "\n",
    "### Content\n",
    "\n",
    "* Parsing dates when reading files\n",
    "* Converting columns from string to datetime\n",
    "* Generating datetime or period indices\n",
    "* Extracting date elements from columns and indices\n",
    "* Slicing series with time indices\n",
    "* Filling and interpolating gaps\n",
    "* Aggregating over periods\n",
    "* Calculating date differences (=time deltas) *- TO BE DONE*\n",
    "* Generating lagged variables\n",
    "* Generating date dummies\n",
    "* Smoothing time series\n",
    "* Differencing time series\n",
    "* Handling time zones *- TO BE DONE*\n",
    "\n",
    "\n",
    "### References\n",
    "\n",
    "* https://docs.python.org/3/library/datetime.html\n",
    "* https://strftime.org/\n",
    "* https://pandas.pydata.org/pandas-docs/stable/reference/api/pandas.read_csv.html\n",
    "* https://pandas.pydata.org/pandas-docs/stable/reference/api/pandas.to_datetime.html\n",
    "* https://pandas.pydata.org/pandas-docs/stable/reference/api/pandas.DatetimeIndex.html\n",
    "* https://pandas.pydata.org/pandas-docs/stable/reference/api/pandas.PeriodIndex.html\n",
    "* https://pandas.pydata.org/pandas-docs/stable/reference/api/pandas.date_range.html\n",
    "* https://pandas.pydata.org/pandas-docs/stable/reference/api/pandas.period_range.html\n",
    "* https://pandas.pydata.org/pandas-docs/stable/reference/api/pandas.DataFrame.reindex.html\n",
    "* https://pandas.pydata.org/pandas-docs/stable/reference/api/pandas.DataFrame.fillna.html\n",
    "* https://pandas.pydata.org/pandas-docs/stable/reference/api/pandas.Series.interpolate.html\n",
    "* https://pandas.pydata.org/pandas-docs/stable/reference/api/pandas.DataFrame.resample.html"
   ]
  },
  {
   "cell_type": "markdown",
   "metadata": {},
   "source": [
    "## Imports"
   ]
  },
  {
   "cell_type": "code",
   "execution_count": 1,
   "metadata": {},
   "outputs": [],
   "source": [
    "import numpy as np\n",
    "import pandas as pd\n",
    "import datetime as dt\n",
    "import matplotlib.pyplot as plt\n",
    "\n",
    "import forecasttk.visualize as viz\n",
    "\n",
    "plt.style.use(\"seaborn-whitegrid\")"
   ]
  },
  {
   "cell_type": "markdown",
   "metadata": {},
   "source": [
    "## Parsing dates when reading csv files\n",
    "\n",
    "* pd.read_csv()"
   ]
  },
  {
   "cell_type": "code",
   "execution_count": 2,
   "metadata": {},
   "outputs": [
    {
     "data": {
      "text/html": [
       "<div>\n",
       "<style scoped>\n",
       "    .dataframe tbody tr th:only-of-type {\n",
       "        vertical-align: middle;\n",
       "    }\n",
       "\n",
       "    .dataframe tbody tr th {\n",
       "        vertical-align: top;\n",
       "    }\n",
       "\n",
       "    .dataframe thead th {\n",
       "        text-align: right;\n",
       "    }\n",
       "</style>\n",
       "<table border=\"1\" class=\"dataframe\">\n",
       "  <thead>\n",
       "    <tr style=\"text-align: right;\">\n",
       "      <th></th>\n",
       "      <th>Date</th>\n",
       "      <th>Temp</th>\n",
       "    </tr>\n",
       "  </thead>\n",
       "  <tbody>\n",
       "    <tr>\n",
       "      <th>0</th>\n",
       "      <td>1981-01-01</td>\n",
       "      <td>20.7</td>\n",
       "    </tr>\n",
       "    <tr>\n",
       "      <th>1</th>\n",
       "      <td>1981-01-02</td>\n",
       "      <td>17.9</td>\n",
       "    </tr>\n",
       "    <tr>\n",
       "      <th>2</th>\n",
       "      <td>1981-01-03</td>\n",
       "      <td>18.8</td>\n",
       "    </tr>\n",
       "    <tr>\n",
       "      <th>3</th>\n",
       "      <td>1981-01-04</td>\n",
       "      <td>14.6</td>\n",
       "    </tr>\n",
       "    <tr>\n",
       "      <th>4</th>\n",
       "      <td>1981-01-05</td>\n",
       "      <td>15.8</td>\n",
       "    </tr>\n",
       "  </tbody>\n",
       "</table>\n",
       "</div>"
      ],
      "text/plain": [
       "         Date  Temp\n",
       "0  1981-01-01  20.7\n",
       "1  1981-01-02  17.9\n",
       "2  1981-01-03  18.8\n",
       "3  1981-01-04  14.6\n",
       "4  1981-01-05  15.8"
      ]
     },
     "execution_count": 2,
     "metadata": {},
     "output_type": "execute_result"
    }
   ],
   "source": [
    "# Load data\n",
    "df = pd.read_csv(\"data/daily-min-temperatures.csv\")\n",
    "df.head()"
   ]
  },
  {
   "cell_type": "code",
   "execution_count": 3,
   "metadata": {},
   "outputs": [
    {
     "data": {
      "text/plain": [
       "Date     object\n",
       "Temp    float64\n",
       "dtype: object"
      ]
     },
     "execution_count": 3,
     "metadata": {},
     "output_type": "execute_result"
    }
   ],
   "source": [
    "# Date is encoded as string\n",
    "df.dtypes"
   ]
  },
  {
   "cell_type": "code",
   "execution_count": 24,
   "metadata": {},
   "outputs": [
    {
     "data": {
      "text/plain": [
       "Date    datetime64[ns]\n",
       "Temp           float64\n",
       "dtype: object"
      ]
     },
     "execution_count": 24,
     "metadata": {},
     "output_type": "execute_result"
    }
   ],
   "source": [
    "# Load data: Parse date in column \"Date\" and infer format automatically \n",
    "df = pd.read_csv(\"data/daily-min-temperatures.csv\", \n",
    "                 parse_dates=[\"Date\"], \n",
    "                 infer_datetime_format=True)\n",
    "df.dtypes"
   ]
  },
  {
   "cell_type": "code",
   "execution_count": 26,
   "metadata": {},
   "outputs": [
    {
     "data": {
      "text/plain": [
       "Date    datetime64[ns]\n",
       "Temp           float64\n",
       "dtype: object"
      ]
     },
     "execution_count": 26,
     "metadata": {},
     "output_type": "execute_result"
    }
   ],
   "source": [
    "# Load data: Parse date in column \"Date\" and pass specific date format\n",
    "date_parser = lambda x: dt.datetime.strptime(x, \"%Y-%m-%d\")\n",
    "df = pd.read_csv(\"data/daily-min-temperatures.csv\", \n",
    "                 parse_dates=[\"Date\"], \n",
    "                 infer_datetime_format=True)\n",
    "df.dtypes"
   ]
  },
  {
   "cell_type": "markdown",
   "metadata": {},
   "source": [
    "## Converting columns from string to datetime\n",
    "\n",
    "* pd.to_datetime() \n",
    "* dt.datetime.strptime()"
   ]
  },
  {
   "cell_type": "code",
   "execution_count": 49,
   "metadata": {},
   "outputs": [
    {
     "data": {
      "text/plain": [
       "0    1981-01-01\n",
       "1    1981-01-02\n",
       "2    1981-01-03\n",
       "3    1981-01-04\n",
       "4    1981-01-05\n",
       "Name: Date, dtype: object"
      ]
     },
     "execution_count": 49,
     "metadata": {},
     "output_type": "execute_result"
    }
   ],
   "source": [
    "# Get a time series\n",
    "# Date is encoded as string\n",
    "ts = pd.read_csv(\"data/daily-min-temperatures.csv\")[\"Date\"]\n",
    "ts.head()"
   ]
  },
  {
   "cell_type": "code",
   "execution_count": 50,
   "metadata": {},
   "outputs": [
    {
     "data": {
      "text/plain": [
       "0   1981-01-01\n",
       "1   1981-01-02\n",
       "2   1981-01-03\n",
       "3   1981-01-04\n",
       "4   1981-01-05\n",
       "Name: Date, dtype: datetime64[ns]"
      ]
     },
     "execution_count": 50,
     "metadata": {},
     "output_type": "execute_result"
    }
   ],
   "source": [
    "# Convert with pandas to_datetime - infer format automatically\n",
    "pd.to_datetime(ts).head()"
   ]
  },
  {
   "cell_type": "code",
   "execution_count": 51,
   "metadata": {},
   "outputs": [
    {
     "data": {
      "text/plain": [
       "0   1981-01-01\n",
       "1   1981-01-02\n",
       "2   1981-01-03\n",
       "3   1981-01-04\n",
       "4   1981-01-05\n",
       "Name: Date, dtype: datetime64[ns]"
      ]
     },
     "execution_count": 51,
     "metadata": {},
     "output_type": "execute_result"
    }
   ],
   "source": [
    "# Convert with pandas to_datetime - specify format manually\n",
    "pd.to_datetime(ts, format=\"%Y-%m-%d\").head()"
   ]
  },
  {
   "cell_type": "code",
   "execution_count": 52,
   "metadata": {},
   "outputs": [
    {
     "data": {
      "text/plain": [
       "0   1981-01-01\n",
       "1   1981-01-02\n",
       "2   1981-01-03\n",
       "3   1981-01-04\n",
       "4   1981-01-05\n",
       "Name: Date, dtype: datetime64[ns]"
      ]
     },
     "execution_count": 52,
     "metadata": {},
     "output_type": "execute_result"
    }
   ],
   "source": [
    "# Convert with datetime\n",
    "ts.apply(lambda x: dt.datetime.strptime(x, \"%Y-%m-%d\")).head()"
   ]
  },
  {
   "cell_type": "markdown",
   "metadata": {},
   "source": [
    "## Generating datetime or period indices\n",
    "\n",
    "* Many pandas methods for working with dates and times require the index of a dataframe or series to be a time series\n",
    "\n",
    "### From string columns"
   ]
  },
  {
   "cell_type": "code",
   "execution_count": 62,
   "metadata": {},
   "outputs": [
    {
     "data": {
      "text/html": [
       "<div>\n",
       "<style scoped>\n",
       "    .dataframe tbody tr th:only-of-type {\n",
       "        vertical-align: middle;\n",
       "    }\n",
       "\n",
       "    .dataframe tbody tr th {\n",
       "        vertical-align: top;\n",
       "    }\n",
       "\n",
       "    .dataframe thead th {\n",
       "        text-align: right;\n",
       "    }\n",
       "</style>\n",
       "<table border=\"1\" class=\"dataframe\">\n",
       "  <thead>\n",
       "    <tr style=\"text-align: right;\">\n",
       "      <th></th>\n",
       "      <th>Date</th>\n",
       "      <th>Temp</th>\n",
       "    </tr>\n",
       "  </thead>\n",
       "  <tbody>\n",
       "    <tr>\n",
       "      <th>0</th>\n",
       "      <td>1981-01-01</td>\n",
       "      <td>20.7</td>\n",
       "    </tr>\n",
       "    <tr>\n",
       "      <th>1</th>\n",
       "      <td>1981-01-02</td>\n",
       "      <td>17.9</td>\n",
       "    </tr>\n",
       "    <tr>\n",
       "      <th>2</th>\n",
       "      <td>1981-01-03</td>\n",
       "      <td>18.8</td>\n",
       "    </tr>\n",
       "    <tr>\n",
       "      <th>3</th>\n",
       "      <td>1981-01-04</td>\n",
       "      <td>14.6</td>\n",
       "    </tr>\n",
       "    <tr>\n",
       "      <th>4</th>\n",
       "      <td>1981-01-05</td>\n",
       "      <td>15.8</td>\n",
       "    </tr>\n",
       "  </tbody>\n",
       "</table>\n",
       "</div>"
      ],
      "text/plain": [
       "         Date  Temp\n",
       "0  1981-01-01  20.7\n",
       "1  1981-01-02  17.9\n",
       "2  1981-01-03  18.8\n",
       "3  1981-01-04  14.6\n",
       "4  1981-01-05  15.8"
      ]
     },
     "execution_count": 62,
     "metadata": {},
     "output_type": "execute_result"
    }
   ],
   "source": [
    "# Load example data\n",
    "df = pd.read_csv(\"data/daily-min-temperatures.csv\")\n",
    "df.head()"
   ]
  },
  {
   "cell_type": "code",
   "execution_count": 68,
   "metadata": {},
   "outputs": [
    {
     "data": {
      "text/plain": [
       "DatetimeIndex(['1981-01-01', '1981-01-02', '1981-01-03', '1981-01-04',\n",
       "               '1981-01-05', '1981-01-06', '1981-01-07', '1981-01-08',\n",
       "               '1981-01-09', '1981-01-10',\n",
       "               ...\n",
       "               '1990-12-22', '1990-12-23', '1990-12-24', '1990-12-25',\n",
       "               '1990-12-26', '1990-12-27', '1990-12-28', '1990-12-29',\n",
       "               '1990-12-30', '1990-12-31'],\n",
       "              dtype='datetime64[ns]', name='Date', length=3650, freq=None)"
      ]
     },
     "execution_count": 68,
     "metadata": {},
     "output_type": "execute_result"
    }
   ],
   "source": [
    "# DatetimeIndex\n",
    "df2 = df.copy()\n",
    "df2.index = pd.to_datetime(df2[\"Date\"])\n",
    "\n",
    "df2.index"
   ]
  },
  {
   "cell_type": "code",
   "execution_count": 69,
   "metadata": {},
   "outputs": [
    {
     "data": {
      "text/plain": [
       "PeriodIndex(['1981-01-01', '1981-01-02', '1981-01-03', '1981-01-04',\n",
       "             '1981-01-05', '1981-01-06', '1981-01-07', '1981-01-08',\n",
       "             '1981-01-09', '1981-01-10',\n",
       "             ...\n",
       "             '1990-12-22', '1990-12-23', '1990-12-24', '1990-12-25',\n",
       "             '1990-12-26', '1990-12-27', '1990-12-28', '1990-12-29',\n",
       "             '1990-12-30', '1990-12-31'],\n",
       "            dtype='period[D]', name='Date', length=3650, freq='D')"
      ]
     },
     "execution_count": 69,
     "metadata": {},
     "output_type": "execute_result"
    }
   ],
   "source": [
    "# PeriodIndex\n",
    "df2 = df.copy()\n",
    "df2.index = pd.to_datetime(df2[\"Date\"])\n",
    "df2.index = df2.index.to_period(\"D\")\n",
    "\n",
    "df2.index"
   ]
  },
  {
   "cell_type": "markdown",
   "metadata": {},
   "source": [
    "### From start and end dates"
   ]
  },
  {
   "cell_type": "code",
   "execution_count": 5,
   "metadata": {},
   "outputs": [
    {
     "data": {
      "text/plain": [
       "DatetimeIndex(['2019-11-01', '2019-11-02', '2019-11-03', '2019-11-04',\n",
       "               '2019-11-05', '2019-11-06', '2019-11-07', '2019-11-08',\n",
       "               '2019-11-09', '2019-11-10', '2019-11-11', '2019-11-12'],\n",
       "              dtype='datetime64[ns]', freq='D')"
      ]
     },
     "execution_count": 5,
     "metadata": {},
     "output_type": "execute_result"
    }
   ],
   "source": [
    "# Generat DatetimeIndex from a start and end date\n",
    "pd.date_range(\"2019-11-01\", \"2019-11-12\", freq=\"D\")"
   ]
  },
  {
   "cell_type": "code",
   "execution_count": 6,
   "metadata": {},
   "outputs": [
    {
     "data": {
      "text/plain": [
       "DatetimeIndex(['2019-11-10', '2019-11-11', '2019-11-12', '2019-11-13',\n",
       "               '2019-11-14', '2019-11-15', '2019-11-16', '2019-11-17',\n",
       "               '2019-11-18', '2019-11-19', '2019-11-20', '2019-11-21'],\n",
       "              dtype='datetime64[ns]', freq='D')"
      ]
     },
     "execution_count": 6,
     "metadata": {},
     "output_type": "execute_result"
    }
   ],
   "source": [
    "# Generat DatetimeIndex from a start date\n",
    "pd.date_range(\"2019-11-10\", periods=12, freq=\"D\")"
   ]
  },
  {
   "cell_type": "code",
   "execution_count": 7,
   "metadata": {},
   "outputs": [
    {
     "data": {
      "text/plain": [
       "PeriodIndex(['2019-11-01', '2019-11-02', '2019-11-03', '2019-11-04',\n",
       "             '2019-11-05', '2019-11-06', '2019-11-07', '2019-11-08',\n",
       "             '2019-11-09', '2019-11-10', '2019-11-11', '2019-11-12'],\n",
       "            dtype='period[D]', freq='D')"
      ]
     },
     "execution_count": 7,
     "metadata": {},
     "output_type": "execute_result"
    }
   ],
   "source": [
    "# Generat PeriodIndex from a start and end date\n",
    "pd.period_range(\"2019-11-01\", \"2019-11-12\", freq=\"D\")"
   ]
  },
  {
   "cell_type": "code",
   "execution_count": 8,
   "metadata": {},
   "outputs": [
    {
     "data": {
      "text/plain": [
       "PeriodIndex(['2019-11-01', '2019-11-02', '2019-11-03', '2019-11-04',\n",
       "             '2019-11-05', '2019-11-06', '2019-11-07', '2019-11-08',\n",
       "             '2019-11-09', '2019-11-10', '2019-11-11', '2019-11-12'],\n",
       "            dtype='period[D]', freq='D')"
      ]
     },
     "execution_count": 8,
     "metadata": {},
     "output_type": "execute_result"
    }
   ],
   "source": [
    "# Generate PeriodIndex from a start date\n",
    "pd.period_range(\"2019-11-01\", periods=12, freq=\"D\")"
   ]
  },
  {
   "cell_type": "markdown",
   "metadata": {},
   "source": [
    "## Extracting date elements from columns and indices\n",
    "\n",
    "### From datetime columns"
   ]
  },
  {
   "cell_type": "code",
   "execution_count": 70,
   "metadata": {},
   "outputs": [
    {
     "data": {
      "text/plain": [
       "0   1981-01-01\n",
       "1   1981-01-02\n",
       "2   1981-01-03\n",
       "3   1981-01-04\n",
       "4   1981-01-05\n",
       "Name: Date, dtype: datetime64[ns]"
      ]
     },
     "execution_count": 70,
     "metadata": {},
     "output_type": "execute_result"
    }
   ],
   "source": [
    "# Get a time series\n",
    "# Date is encoded as string\n",
    "ts = pd.read_csv(\"data/daily-min-temperatures.csv\")[\"Date\"]\n",
    "ts = pd.to_datetime(ts)\n",
    "ts.head()"
   ]
  },
  {
   "cell_type": "code",
   "execution_count": 71,
   "metadata": {
    "scrolled": true
   },
   "outputs": [
    {
     "data": {
      "text/plain": [
       "0    1981\n",
       "1    1981\n",
       "2    1981\n",
       "3    1981\n",
       "4    1981\n",
       "Name: Date, dtype: int64"
      ]
     },
     "execution_count": 71,
     "metadata": {},
     "output_type": "execute_result"
    }
   ],
   "source": [
    "# Extract year\n",
    "ts.apply(lambda x: x.year).head()"
   ]
  },
  {
   "cell_type": "code",
   "execution_count": 72,
   "metadata": {},
   "outputs": [
    {
     "data": {
      "text/plain": [
       "0    1\n",
       "1    1\n",
       "2    1\n",
       "3    1\n",
       "4    1\n",
       "Name: Date, dtype: int64"
      ]
     },
     "execution_count": 72,
     "metadata": {},
     "output_type": "execute_result"
    }
   ],
   "source": [
    "# Extract month\n",
    "ts.apply(lambda x: x.month).head()"
   ]
  },
  {
   "cell_type": "code",
   "execution_count": 73,
   "metadata": {},
   "outputs": [
    {
     "data": {
      "text/plain": [
       "0    1\n",
       "1    2\n",
       "2    3\n",
       "3    4\n",
       "4    5\n",
       "Name: Date, dtype: int64"
      ]
     },
     "execution_count": 73,
     "metadata": {},
     "output_type": "execute_result"
    }
   ],
   "source": [
    "# Extract day (=day of month)\n",
    "ts.apply(lambda x: x.day).head()"
   ]
  },
  {
   "cell_type": "code",
   "execution_count": 75,
   "metadata": {},
   "outputs": [
    {
     "data": {
      "text/plain": [
       "0    3\n",
       "1    4\n",
       "2    5\n",
       "3    6\n",
       "4    0\n",
       "Name: Date, dtype: int64"
      ]
     },
     "execution_count": 75,
     "metadata": {},
     "output_type": "execute_result"
    }
   ],
   "source": [
    "# Extract weekday\n",
    "ts.apply(lambda x: x.weekday()).head()"
   ]
  },
  {
   "cell_type": "markdown",
   "metadata": {},
   "source": [
    "### From datetime or period indices"
   ]
  },
  {
   "cell_type": "code",
   "execution_count": 79,
   "metadata": {},
   "outputs": [
    {
     "data": {
      "text/plain": [
       "Date\n",
       "1981-01-01    20.7\n",
       "1981-01-02    17.9\n",
       "1981-01-03    18.8\n",
       "1981-01-04    14.6\n",
       "1981-01-05    15.8\n",
       "Name: Temp, dtype: float64"
      ]
     },
     "execution_count": 79,
     "metadata": {},
     "output_type": "execute_result"
    }
   ],
   "source": [
    "# Get a time series\n",
    "# Date is encoded as string\n",
    "df = pd.read_csv(\"data/daily-min-temperatures.csv\")\n",
    "df.index = pd.to_datetime(df[\"Date\"])\n",
    "ts = df[\"Temp\"]\n",
    "\n",
    "ts.head()"
   ]
  },
  {
   "cell_type": "code",
   "execution_count": 83,
   "metadata": {},
   "outputs": [
    {
     "data": {
      "text/plain": [
       "Int64Index([1981, 1981, 1981, 1981, 1981, 1981, 1981, 1981, 1981, 1981,\n",
       "            ...\n",
       "            1990, 1990, 1990, 1990, 1990, 1990, 1990, 1990, 1990, 1990],\n",
       "           dtype='int64', name='Date', length=3650)"
      ]
     },
     "execution_count": 83,
     "metadata": {},
     "output_type": "execute_result"
    }
   ],
   "source": [
    "ts.index.year"
   ]
  },
  {
   "cell_type": "code",
   "execution_count": 85,
   "metadata": {},
   "outputs": [
    {
     "data": {
      "text/plain": [
       "Int64Index([ 1,  1,  1,  1,  1,  1,  1,  1,  1,  1,\n",
       "            ...\n",
       "            12, 12, 12, 12, 12, 12, 12, 12, 12, 12],\n",
       "           dtype='int64', name='Date', length=3650)"
      ]
     },
     "execution_count": 85,
     "metadata": {},
     "output_type": "execute_result"
    }
   ],
   "source": [
    "ts.index.month"
   ]
  },
  {
   "cell_type": "code",
   "execution_count": 86,
   "metadata": {},
   "outputs": [
    {
     "data": {
      "text/plain": [
       "Int64Index([ 1,  2,  3,  4,  5,  6,  7,  8,  9, 10,\n",
       "            ...\n",
       "            22, 23, 24, 25, 26, 27, 28, 29, 30, 31],\n",
       "           dtype='int64', name='Date', length=3650)"
      ]
     },
     "execution_count": 86,
     "metadata": {},
     "output_type": "execute_result"
    }
   ],
   "source": [
    "ts.index.day"
   ]
  },
  {
   "cell_type": "code",
   "execution_count": 87,
   "metadata": {},
   "outputs": [
    {
     "data": {
      "text/plain": [
       "Int64Index([3, 4, 5, 6, 0, 1, 2, 3, 4, 5,\n",
       "            ...\n",
       "            5, 6, 0, 1, 2, 3, 4, 5, 6, 0],\n",
       "           dtype='int64', name='Date', length=3650)"
      ]
     },
     "execution_count": 87,
     "metadata": {},
     "output_type": "execute_result"
    }
   ],
   "source": [
    "ts.index.dayofweek"
   ]
  },
  {
   "cell_type": "markdown",
   "metadata": {},
   "source": [
    "## Slicing time series using the index"
   ]
  },
  {
   "cell_type": "code",
   "execution_count": 9,
   "metadata": {},
   "outputs": [],
   "source": [
    "ts = df.copy()\n",
    "ts.index = pd.to_datetime(ts[\"Date\"])\n",
    "ts = ts[\"Temp\"]"
   ]
  },
  {
   "cell_type": "code",
   "execution_count": 10,
   "metadata": {},
   "outputs": [
    {
     "data": {
      "text/plain": [
       "Date\n",
       "1986-01-01    12.9\n",
       "1986-01-02    13.8\n",
       "1986-01-03    10.6\n",
       "1986-01-04    12.6\n",
       "1986-01-05    13.7\n",
       "1986-01-06    12.6\n",
       "1986-01-07    13.1\n",
       "1986-01-08    15.4\n",
       "1986-01-09    11.9\n",
       "1986-01-10    13.8\n",
       "Name: Temp, dtype: float64"
      ]
     },
     "execution_count": 10,
     "metadata": {},
     "output_type": "execute_result"
    }
   ],
   "source": [
    "# get all observations from 1986\n",
    "ts[\"1986\"].head(10)"
   ]
  },
  {
   "cell_type": "code",
   "execution_count": 11,
   "metadata": {},
   "outputs": [
    {
     "data": {
      "text/plain": [
       "Date\n",
       "1986-11-01    10.8\n",
       "1986-11-02    10.4\n",
       "1986-11-03     9.1\n",
       "1986-11-04    16.0\n",
       "1986-11-05    21.0\n",
       "1986-11-06    16.2\n",
       "1986-11-07     8.6\n",
       "1986-11-08     9.2\n",
       "1986-11-09    12.5\n",
       "1986-11-10     9.7\n",
       "Name: Temp, dtype: float64"
      ]
     },
     "execution_count": 11,
     "metadata": {},
     "output_type": "execute_result"
    }
   ],
   "source": [
    "# get all observations from November 1986\n",
    "ts[\"1986-11\"].head(10)"
   ]
  },
  {
   "cell_type": "code",
   "execution_count": 12,
   "metadata": {},
   "outputs": [
    {
     "data": {
      "text/plain": [
       "Date\n",
       "1981-01-01    20.7\n",
       "1982-01-01    17.0\n",
       "1983-01-01    18.4\n",
       "1984-01-01    19.5\n",
       "1985-01-01    13.3\n",
       "1986-01-01    12.9\n",
       "1987-01-01    12.3\n",
       "1988-01-01    15.3\n",
       "1989-01-01    14.3\n",
       "1990-01-01    14.8\n",
       "Name: Temp, dtype: float64"
      ]
     },
     "execution_count": 12,
     "metadata": {},
     "output_type": "execute_result"
    }
   ],
   "source": [
    "# get all observations from January 1st\n",
    "ts[ts.index.dayofyear == 1].head(10)"
   ]
  },
  {
   "cell_type": "code",
   "execution_count": 13,
   "metadata": {},
   "outputs": [
    {
     "data": {
      "text/plain": [
       "Date\n",
       "1981-01-04    14.6\n",
       "1981-01-11    16.2\n",
       "1981-01-18    24.8\n",
       "1981-01-25    16.5\n",
       "1981-02-01    15.3\n",
       "1981-02-08    17.1\n",
       "1981-02-15    22.1\n",
       "1981-02-22    16.5\n",
       "1981-03-01    17.8\n",
       "1981-03-08    16.3\n",
       "Name: Temp, dtype: float64"
      ]
     },
     "execution_count": 13,
     "metadata": {},
     "output_type": "execute_result"
    }
   ],
   "source": [
    "# get all observations from Sunday\n",
    "ts[ts.index.dayofweek == 6].head(10)"
   ]
  },
  {
   "cell_type": "code",
   "execution_count": 14,
   "metadata": {},
   "outputs": [
    {
     "data": {
      "text/plain": [
       "Date\n",
       "1981-12-01    13.4\n",
       "1981-12-02    10.5\n",
       "1981-12-03    14.2\n",
       "1981-12-04    11.5\n",
       "1981-12-05    13.0\n",
       "1981-12-06    15.0\n",
       "1981-12-07    14.7\n",
       "1981-12-08    12.6\n",
       "1981-12-09    12.5\n",
       "1981-12-10    13.5\n",
       "Name: Temp, dtype: float64"
      ]
     },
     "execution_count": 14,
     "metadata": {},
     "output_type": "execute_result"
    }
   ],
   "source": [
    "# get all observations from December\n",
    "ts[ts.index.month == 12].head(10)"
   ]
  },
  {
   "cell_type": "code",
   "execution_count": 15,
   "metadata": {},
   "outputs": [
    {
     "data": {
      "text/plain": [
       "Date\n",
       "1981-01-26    18.7\n",
       "1981-01-27    19.4\n",
       "1981-01-28    17.2\n",
       "1981-01-29    15.5\n",
       "1981-01-30    15.1\n",
       "1981-01-31    15.4\n",
       "1981-02-01    15.3\n",
       "1982-02-01    14.6\n",
       "1982-02-02    13.3\n",
       "1982-02-03    14.8\n",
       "Name: Temp, dtype: float64"
      ]
     },
     "execution_count": 15,
     "metadata": {},
     "output_type": "execute_result"
    }
   ],
   "source": [
    "# get all observations from week of year = 5\n",
    "ts[ts.index.week == 5].head(10)"
   ]
  },
  {
   "cell_type": "markdown",
   "metadata": {},
   "source": [
    "## Filling and interpolating missing values\n",
    "\n",
    "### Generating gapless indices"
   ]
  },
  {
   "cell_type": "code",
   "execution_count": 16,
   "metadata": {},
   "outputs": [
    {
     "name": "stdout",
     "output_type": "stream",
     "text": [
      "2019-01-01    30\n",
      "2019-01-04    40\n",
      "2019-01-09    70\n",
      "2019-01-10    90\n",
      "dtype: int64\n"
     ]
    },
    {
     "data": {
      "text/plain": [
       "2019-01-01    30.0\n",
       "2019-01-02     NaN\n",
       "2019-01-03     NaN\n",
       "2019-01-04    40.0\n",
       "2019-01-05     NaN\n",
       "2019-01-06     NaN\n",
       "2019-01-07     NaN\n",
       "2019-01-08     NaN\n",
       "2019-01-09    70.0\n",
       "2019-01-10    90.0\n",
       "Freq: D, dtype: float64"
      ]
     },
     "execution_count": 16,
     "metadata": {},
     "output_type": "execute_result"
    }
   ],
   "source": [
    "# With DatetimeIndex\n",
    "\n",
    "# Generate series with gaps\n",
    "ts = pd.Series([30, 40, 70, 90], index=[\"2019-01-01\", \"2019-01-04\", \"2019-01-09\", \"2019-01-10\"])\n",
    "ts.index = pd.to_datetime(ts.index)\n",
    "\n",
    "print(ts)\n",
    "\n",
    "# Generate gapless index\n",
    "gapless_index = pd.date_range(ts.index[0], ts.index[-1])\n",
    "\n",
    "# Reindex\n",
    "ts.reindex(index=gapless_index)"
   ]
  },
  {
   "cell_type": "code",
   "execution_count": 17,
   "metadata": {},
   "outputs": [
    {
     "name": "stdout",
     "output_type": "stream",
     "text": [
      "2019-01-01    30\n",
      "2019-01-04    40\n",
      "2019-01-09    70\n",
      "2019-01-10    90\n",
      "Freq: D, dtype: int64\n"
     ]
    },
    {
     "data": {
      "text/plain": [
       "2019-01-01    30.0\n",
       "2019-01-02     NaN\n",
       "2019-01-03     NaN\n",
       "2019-01-04    40.0\n",
       "2019-01-05     NaN\n",
       "2019-01-06     NaN\n",
       "2019-01-07     NaN\n",
       "2019-01-08     NaN\n",
       "2019-01-09    70.0\n",
       "2019-01-10    90.0\n",
       "Freq: D, dtype: float64"
      ]
     },
     "execution_count": 17,
     "metadata": {},
     "output_type": "execute_result"
    }
   ],
   "source": [
    "#### With PeriodIndex\n",
    "\n",
    "# Generate series with gaps\n",
    "ts = pd.Series([30, 40, 70, 90], index=[\"2019-01-01\", \"2019-01-04\", \"2019-01-09\", \"2019-01-10\"])\n",
    "ts.index = pd.to_datetime(ts.index).to_period(\"D\")\n",
    "\n",
    "print(ts)\n",
    "\n",
    "# Generate gapless index\n",
    "gapless_index = pd.period_range(ts.index[0], ts.index[-1])\n",
    "\n",
    "# Reindex\n",
    "ts.reindex(index=gapless_index)"
   ]
  },
  {
   "cell_type": "markdown",
   "metadata": {},
   "source": [
    "### Filling missing values"
   ]
  },
  {
   "cell_type": "code",
   "execution_count": 18,
   "metadata": {},
   "outputs": [
    {
     "name": "stdout",
     "output_type": "stream",
     "text": [
      "2019-01-01    30\n",
      "2019-01-04    40\n",
      "2019-01-09    70\n",
      "2019-01-10    90\n",
      "dtype: int64\n"
     ]
    }
   ],
   "source": [
    "# Generate series with gaps\n",
    "ts = pd.Series([30, 40, 70, 90], index=[\"2019-01-01\", \"2019-01-04\", \"2019-01-09\", \"2019-01-10\"])\n",
    "ts.index = pd.to_datetime(ts.index)\n",
    "\n",
    "print(ts)\n",
    "\n",
    "# Generate gapless index\n",
    "gapless_index = pd.date_range(ts.index[0], ts.index[-1])"
   ]
  },
  {
   "cell_type": "code",
   "execution_count": 19,
   "metadata": {},
   "outputs": [
    {
     "data": {
      "text/plain": [
       "2019-01-01    30.0\n",
       "2019-01-02     NaN\n",
       "2019-01-03     NaN\n",
       "2019-01-04    40.0\n",
       "2019-01-05     NaN\n",
       "2019-01-06     NaN\n",
       "2019-01-07     NaN\n",
       "2019-01-08     NaN\n",
       "2019-01-09    70.0\n",
       "2019-01-10    90.0\n",
       "Freq: D, dtype: float64"
      ]
     },
     "execution_count": 19,
     "metadata": {},
     "output_type": "execute_result"
    }
   ],
   "source": [
    "# Don't fill\n",
    "ts.reindex(index=gapless_index)"
   ]
  },
  {
   "cell_type": "code",
   "execution_count": 20,
   "metadata": {},
   "outputs": [
    {
     "data": {
      "text/plain": [
       "2019-01-01    30\n",
       "2019-01-02     0\n",
       "2019-01-03     0\n",
       "2019-01-04    40\n",
       "2019-01-05     0\n",
       "2019-01-06     0\n",
       "2019-01-07     0\n",
       "2019-01-08     0\n",
       "2019-01-09    70\n",
       "2019-01-10    90\n",
       "Freq: D, dtype: int64"
      ]
     },
     "execution_count": 20,
     "metadata": {},
     "output_type": "execute_result"
    }
   ],
   "source": [
    "# Fill with 0\n",
    "ts.reindex(index=gapless_index, fill_value=0)"
   ]
  },
  {
   "cell_type": "code",
   "execution_count": 21,
   "metadata": {},
   "outputs": [
    {
     "data": {
      "text/plain": [
       "2019-01-01    30\n",
       "2019-01-02    30\n",
       "2019-01-03    30\n",
       "2019-01-04    40\n",
       "2019-01-05    40\n",
       "2019-01-06    40\n",
       "2019-01-07    40\n",
       "2019-01-08    40\n",
       "2019-01-09    70\n",
       "2019-01-10    90\n",
       "Freq: D, dtype: int64"
      ]
     },
     "execution_count": 21,
     "metadata": {},
     "output_type": "execute_result"
    }
   ],
   "source": [
    "# Forward fill: Fill with past values\n",
    "ts.reindex(index=gapless_index, method=\"ffill\")"
   ]
  },
  {
   "cell_type": "code",
   "execution_count": 22,
   "metadata": {},
   "outputs": [
    {
     "data": {
      "text/plain": [
       "2019-01-01    30\n",
       "2019-01-02    40\n",
       "2019-01-03    40\n",
       "2019-01-04    40\n",
       "2019-01-05    70\n",
       "2019-01-06    70\n",
       "2019-01-07    70\n",
       "2019-01-08    70\n",
       "2019-01-09    70\n",
       "2019-01-10    90\n",
       "Freq: D, dtype: int64"
      ]
     },
     "execution_count": 22,
     "metadata": {},
     "output_type": "execute_result"
    }
   ],
   "source": [
    "# Backward fill: Fill with future values\n",
    "ts.reindex(index=gapless_index, method=\"bfill\")"
   ]
  },
  {
   "cell_type": "code",
   "execution_count": 23,
   "metadata": {},
   "outputs": [
    {
     "data": {
      "text/plain": [
       "2019-01-01    30\n",
       "2019-01-02    30\n",
       "2019-01-03    40\n",
       "2019-01-04    40\n",
       "2019-01-05    40\n",
       "2019-01-06    40\n",
       "2019-01-07    70\n",
       "2019-01-08    70\n",
       "2019-01-09    70\n",
       "2019-01-10    90\n",
       "Freq: D, dtype: int64"
      ]
     },
     "execution_count": 23,
     "metadata": {},
     "output_type": "execute_result"
    }
   ],
   "source": [
    "# Nearest fill: Fill with nearest values\n",
    "ts.reindex(index=gapless_index, method=\"nearest\")"
   ]
  },
  {
   "cell_type": "markdown",
   "metadata": {},
   "source": [
    "### Interpolating missing values"
   ]
  },
  {
   "cell_type": "code",
   "execution_count": 24,
   "metadata": {},
   "outputs": [
    {
     "name": "stdout",
     "output_type": "stream",
     "text": [
      "2019-01-01    30.0\n",
      "2019-01-02     NaN\n",
      "2019-01-03     NaN\n",
      "2019-01-04    40.0\n",
      "2019-01-05     NaN\n",
      "2019-01-06     NaN\n",
      "2019-01-07     NaN\n",
      "2019-01-08     NaN\n",
      "2019-01-09    70.0\n",
      "2019-01-10    90.0\n",
      "Freq: D, dtype: float64\n"
     ]
    }
   ],
   "source": [
    "# Generate series with gaps\n",
    "ts = pd.Series([30, 40, 70, 90], index=[\"2019-01-01\", \"2019-01-04\", \"2019-01-09\", \"2019-01-10\"])\n",
    "ts.index = pd.to_datetime(ts.index)\n",
    "\n",
    "# Generate gapless index\n",
    "gapless_index = pd.date_range(ts.index[0], ts.index[-1])\n",
    "\n",
    "# Reindex\n",
    "ts = ts.reindex(index=gapless_index)\n",
    "\n",
    "print(ts)"
   ]
  },
  {
   "cell_type": "code",
   "execution_count": 25,
   "metadata": {},
   "outputs": [
    {
     "data": {
      "text/plain": [
       "2019-01-01    30.000000\n",
       "2019-01-02    33.333333\n",
       "2019-01-03    36.666667\n",
       "2019-01-04    40.000000\n",
       "2019-01-05    46.000000\n",
       "2019-01-06    52.000000\n",
       "2019-01-07    58.000000\n",
       "2019-01-08    64.000000\n",
       "2019-01-09    70.000000\n",
       "2019-01-10    90.000000\n",
       "Freq: D, dtype: float64"
      ]
     },
     "execution_count": 25,
     "metadata": {},
     "output_type": "execute_result"
    }
   ],
   "source": [
    "# Linear interpolation\n",
    "ts.interpolate(method=\"linear\")"
   ]
  },
  {
   "cell_type": "code",
   "execution_count": 26,
   "metadata": {},
   "outputs": [
    {
     "data": {
      "text/plain": [
       "2019-01-01    30.0\n",
       "2019-01-02    30.0\n",
       "2019-01-03    40.0\n",
       "2019-01-04    40.0\n",
       "2019-01-05    40.0\n",
       "2019-01-06    40.0\n",
       "2019-01-07    70.0\n",
       "2019-01-08    70.0\n",
       "2019-01-09    70.0\n",
       "2019-01-10    90.0\n",
       "Freq: D, dtype: float64"
      ]
     },
     "execution_count": 26,
     "metadata": {},
     "output_type": "execute_result"
    }
   ],
   "source": [
    "# Interpolation with nearest values\n",
    "ts.interpolate(method=\"nearest\")"
   ]
  },
  {
   "cell_type": "code",
   "execution_count": 27,
   "metadata": {},
   "outputs": [
    {
     "data": {
      "text/plain": [
       "2019-01-01    30.000000\n",
       "2019-01-02    35.777778\n",
       "2019-01-03    38.666667\n",
       "2019-01-04    40.000000\n",
       "2019-01-05    41.111111\n",
       "2019-01-06    43.333333\n",
       "2019-01-07    48.000000\n",
       "2019-01-08    56.444444\n",
       "2019-01-09    70.000000\n",
       "2019-01-10    90.000000\n",
       "Freq: D, dtype: float64"
      ]
     },
     "execution_count": 27,
     "metadata": {},
     "output_type": "execute_result"
    }
   ],
   "source": [
    "# Polynomial interpolation - creates a smooth curve\n",
    "ts.interpolate(method=\"polynomial\", order=3)"
   ]
  },
  {
   "cell_type": "markdown",
   "metadata": {},
   "source": [
    "## Aggregating: Resampling time series\n",
    "\n",
    "* Frequencies: Y: year, M: month, W: week, D: day, H: hour, ..."
   ]
  },
  {
   "cell_type": "code",
   "execution_count": 28,
   "metadata": {},
   "outputs": [
    {
     "data": {
      "text/plain": [
       "Date\n",
       "1981-01-01    20.7\n",
       "1981-01-02    17.9\n",
       "1981-01-03    18.8\n",
       "1981-01-04    14.6\n",
       "1981-01-05    15.8\n",
       "              ... \n",
       "1990-12-27    14.0\n",
       "1990-12-28    13.6\n",
       "1990-12-29    13.5\n",
       "1990-12-30    15.7\n",
       "1990-12-31    13.0\n",
       "Freq: D, Name: Temp, Length: 3650, dtype: float64"
      ]
     },
     "execution_count": 28,
     "metadata": {},
     "output_type": "execute_result"
    }
   ],
   "source": [
    "# Get time series with PeriodIndex\n",
    "\n",
    "ts = df.copy()\n",
    "ts.index = pd.to_datetime(ts[\"Date\"])\n",
    "ts.index = ts.index.to_period(\"D\")\n",
    "ts = ts[\"Temp\"]\n",
    "\n",
    "ts"
   ]
  },
  {
   "cell_type": "code",
   "execution_count": 29,
   "metadata": {},
   "outputs": [
    {
     "data": {
      "text/plain": [
       "Date\n",
       "1981-01-01    20.7\n",
       "1981-01-02    17.9\n",
       "1981-01-03    18.8\n",
       "1981-01-04    14.6\n",
       "1981-01-05    15.8\n",
       "              ... \n",
       "1990-12-27    14.0\n",
       "1990-12-28    13.6\n",
       "1990-12-29    13.5\n",
       "1990-12-30    15.7\n",
       "1990-12-31    13.0\n",
       "Freq: D, Name: Temp, Length: 3652, dtype: float64"
      ]
     },
     "execution_count": 29,
     "metadata": {},
     "output_type": "execute_result"
    }
   ],
   "source": [
    "# Resample to date (doesn't change anything here) - mean values\n",
    "ts.resample(\"D\").mean()"
   ]
  },
  {
   "cell_type": "code",
   "execution_count": 30,
   "metadata": {},
   "outputs": [
    {
     "data": {
      "text/plain": [
       "Date\n",
       "1980-12-29/1981-01-04    18.000000\n",
       "1981-01-05/1981-01-11    17.542857\n",
       "1981-01-12/1981-01-18    20.371429\n",
       "1981-01-19/1981-01-25    15.771429\n",
       "1981-01-26/1981-02-01    16.657143\n",
       "                           ...    \n",
       "1990-12-03/1990-12-09    17.600000\n",
       "1990-12-10/1990-12-16    12.428571\n",
       "1990-12-17/1990-12-23    14.485714\n",
       "1990-12-24/1990-12-30    13.471429\n",
       "1990-12-31/1991-01-06    13.000000\n",
       "Freq: W-SUN, Name: Temp, Length: 523, dtype: float64"
      ]
     },
     "execution_count": 30,
     "metadata": {},
     "output_type": "execute_result"
    }
   ],
   "source": [
    "# Resample to week - mean values\n",
    "ts.resample(\"W\").mean()"
   ]
  },
  {
   "cell_type": "code",
   "execution_count": 31,
   "metadata": {},
   "outputs": [
    {
     "data": {
      "text/plain": [
       "Date\n",
       "1981-01    17.712903\n",
       "1981-02    17.678571\n",
       "1981-03    13.500000\n",
       "1981-04    12.356667\n",
       "1981-05     9.490323\n",
       "             ...    \n",
       "1990-08     7.825806\n",
       "1990-09     9.166667\n",
       "1990-10    11.345161\n",
       "1990-11    12.656667\n",
       "1990-12    14.367742\n",
       "Freq: M, Name: Temp, Length: 120, dtype: float64"
      ]
     },
     "execution_count": 31,
     "metadata": {},
     "output_type": "execute_result"
    }
   ],
   "source": [
    "# Resample to month - mean values\n",
    "ts.resample(\"M\").mean()"
   ]
  },
  {
   "cell_type": "code",
   "execution_count": 32,
   "metadata": {},
   "outputs": [
    {
     "data": {
      "text/plain": [
       "Date\n",
       "1981    11.517260\n",
       "1982    10.783562\n",
       "1983    11.187397\n",
       "1984    10.591781\n",
       "1985    11.137534\n",
       "1986    10.803288\n",
       "1987    10.853151\n",
       "1988    11.972055\n",
       "1989    11.261918\n",
       "1990    11.669589\n",
       "Freq: A-DEC, Name: Temp, dtype: float64"
      ]
     },
     "execution_count": 32,
     "metadata": {},
     "output_type": "execute_result"
    }
   ],
   "source": [
    "# Resample to year - mean values\n",
    "ts.resample(\"Y\").mean()"
   ]
  },
  {
   "cell_type": "code",
   "execution_count": 33,
   "metadata": {},
   "outputs": [
    {
     "data": {
      "text/plain": [
       "Date\n",
       "1981    2.1\n",
       "1982    0.0\n",
       "1983    0.0\n",
       "1984    0.1\n",
       "1985    0.3\n",
       "1986    0.8\n",
       "1987    1.5\n",
       "1988    2.8\n",
       "1989    0.5\n",
       "1990    2.1\n",
       "Freq: A-DEC, Name: Temp, dtype: float64"
      ]
     },
     "execution_count": 33,
     "metadata": {},
     "output_type": "execute_result"
    }
   ],
   "source": [
    "# Resample  - minimum values\n",
    "ts.resample(\"Y\").min()"
   ]
  },
  {
   "cell_type": "code",
   "execution_count": 34,
   "metadata": {},
   "outputs": [
    {
     "data": {
      "text/plain": [
       "Date\n",
       "1981    25.0\n",
       "1982    26.3\n",
       "1983    22.5\n",
       "1984    24.3\n",
       "1985    22.4\n",
       "1986    21.4\n",
       "1987    24.1\n",
       "1988    23.9\n",
       "1989    22.0\n",
       "1990    22.1\n",
       "Freq: A-DEC, Name: Temp, dtype: float64"
      ]
     },
     "execution_count": 34,
     "metadata": {},
     "output_type": "execute_result"
    }
   ],
   "source": [
    "# Resample - maximum values\n",
    "ts.resample(\"Y\").max()"
   ]
  },
  {
   "cell_type": "code",
   "execution_count": 35,
   "metadata": {},
   "outputs": [
    {
     "data": {
      "text/plain": [
       "Date\n",
       "1981    4203.8\n",
       "1982    3936.0\n",
       "1983    4083.4\n",
       "1984    3866.0\n",
       "1985    4065.2\n",
       "1986    3943.2\n",
       "1987    3961.4\n",
       "1988    4369.8\n",
       "1989    4110.6\n",
       "1990    4259.4\n",
       "Freq: A-DEC, Name: Temp, dtype: float64"
      ]
     },
     "execution_count": 35,
     "metadata": {},
     "output_type": "execute_result"
    }
   ],
   "source": [
    "# Resamle - sum (doesn't make sense for temperatures)\n",
    "ts.resample(\"Y\").sum()"
   ]
  },
  {
   "cell_type": "markdown",
   "metadata": {},
   "source": [
    "## Calculating date differences (=time deltas)"
   ]
  },
  {
   "cell_type": "code",
   "execution_count": null,
   "metadata": {},
   "outputs": [],
   "source": [
    "# TO BE DONE"
   ]
  },
  {
   "cell_type": "markdown",
   "metadata": {},
   "source": [
    "## Generating lagged variables"
   ]
  },
  {
   "cell_type": "code",
   "execution_count": 36,
   "metadata": {},
   "outputs": [
    {
     "data": {
      "text/html": [
       "<div>\n",
       "<style scoped>\n",
       "    .dataframe tbody tr th:only-of-type {\n",
       "        vertical-align: middle;\n",
       "    }\n",
       "\n",
       "    .dataframe tbody tr th {\n",
       "        vertical-align: top;\n",
       "    }\n",
       "\n",
       "    .dataframe thead th {\n",
       "        text-align: right;\n",
       "    }\n",
       "</style>\n",
       "<table border=\"1\" class=\"dataframe\">\n",
       "  <thead>\n",
       "    <tr style=\"text-align: right;\">\n",
       "      <th></th>\n",
       "      <th>Date</th>\n",
       "      <th>Temp</th>\n",
       "    </tr>\n",
       "    <tr>\n",
       "      <th>Date</th>\n",
       "      <th></th>\n",
       "      <th></th>\n",
       "    </tr>\n",
       "  </thead>\n",
       "  <tbody>\n",
       "    <tr>\n",
       "      <td>1981-01-01</td>\n",
       "      <td>1981-01-01</td>\n",
       "      <td>20.7</td>\n",
       "    </tr>\n",
       "    <tr>\n",
       "      <td>1981-01-02</td>\n",
       "      <td>1981-01-02</td>\n",
       "      <td>17.9</td>\n",
       "    </tr>\n",
       "    <tr>\n",
       "      <td>1981-01-03</td>\n",
       "      <td>1981-01-03</td>\n",
       "      <td>18.8</td>\n",
       "    </tr>\n",
       "    <tr>\n",
       "      <td>1981-01-04</td>\n",
       "      <td>1981-01-04</td>\n",
       "      <td>14.6</td>\n",
       "    </tr>\n",
       "    <tr>\n",
       "      <td>1981-01-05</td>\n",
       "      <td>1981-01-05</td>\n",
       "      <td>15.8</td>\n",
       "    </tr>\n",
       "  </tbody>\n",
       "</table>\n",
       "</div>"
      ],
      "text/plain": [
       "                  Date  Temp\n",
       "Date                        \n",
       "1981-01-01  1981-01-01  20.7\n",
       "1981-01-02  1981-01-02  17.9\n",
       "1981-01-03  1981-01-03  18.8\n",
       "1981-01-04  1981-01-04  14.6\n",
       "1981-01-05  1981-01-05  15.8"
      ]
     },
     "execution_count": 36,
     "metadata": {},
     "output_type": "execute_result"
    }
   ],
   "source": [
    "# Get dataframe with PeriodIndex\n",
    "\n",
    "df2 = df.copy()\n",
    "df2.index = pd.to_datetime(df2[\"Date\"])\n",
    "df2.index = df2.index.to_period(\"D\")\n",
    "df2.head()"
   ]
  },
  {
   "cell_type": "code",
   "execution_count": 37,
   "metadata": {},
   "outputs": [
    {
     "data": {
      "text/html": [
       "<div>\n",
       "<style scoped>\n",
       "    .dataframe tbody tr th:only-of-type {\n",
       "        vertical-align: middle;\n",
       "    }\n",
       "\n",
       "    .dataframe tbody tr th {\n",
       "        vertical-align: top;\n",
       "    }\n",
       "\n",
       "    .dataframe thead th {\n",
       "        text-align: right;\n",
       "    }\n",
       "</style>\n",
       "<table border=\"1\" class=\"dataframe\">\n",
       "  <thead>\n",
       "    <tr style=\"text-align: right;\">\n",
       "      <th></th>\n",
       "      <th>Date</th>\n",
       "      <th>Temp</th>\n",
       "      <th>Temp_L1</th>\n",
       "      <th>Temp_L7</th>\n",
       "      <th>Temp_F1</th>\n",
       "      <th>Temp_F7</th>\n",
       "    </tr>\n",
       "    <tr>\n",
       "      <th>Date</th>\n",
       "      <th></th>\n",
       "      <th></th>\n",
       "      <th></th>\n",
       "      <th></th>\n",
       "      <th></th>\n",
       "      <th></th>\n",
       "    </tr>\n",
       "  </thead>\n",
       "  <tbody>\n",
       "    <tr>\n",
       "      <td>1981-01-01</td>\n",
       "      <td>1981-01-01</td>\n",
       "      <td>20.7</td>\n",
       "      <td>NaN</td>\n",
       "      <td>NaN</td>\n",
       "      <td>17.9</td>\n",
       "      <td>15.8</td>\n",
       "    </tr>\n",
       "    <tr>\n",
       "      <td>1981-01-02</td>\n",
       "      <td>1981-01-02</td>\n",
       "      <td>17.9</td>\n",
       "      <td>20.7</td>\n",
       "      <td>NaN</td>\n",
       "      <td>18.8</td>\n",
       "      <td>15.8</td>\n",
       "    </tr>\n",
       "    <tr>\n",
       "      <td>1981-01-03</td>\n",
       "      <td>1981-01-03</td>\n",
       "      <td>18.8</td>\n",
       "      <td>17.9</td>\n",
       "      <td>NaN</td>\n",
       "      <td>14.6</td>\n",
       "      <td>17.4</td>\n",
       "    </tr>\n",
       "    <tr>\n",
       "      <td>1981-01-04</td>\n",
       "      <td>1981-01-04</td>\n",
       "      <td>14.6</td>\n",
       "      <td>18.8</td>\n",
       "      <td>NaN</td>\n",
       "      <td>15.8</td>\n",
       "      <td>21.8</td>\n",
       "    </tr>\n",
       "    <tr>\n",
       "      <td>1981-01-05</td>\n",
       "      <td>1981-01-05</td>\n",
       "      <td>15.8</td>\n",
       "      <td>14.6</td>\n",
       "      <td>NaN</td>\n",
       "      <td>15.8</td>\n",
       "      <td>20.0</td>\n",
       "    </tr>\n",
       "    <tr>\n",
       "      <td>1981-01-06</td>\n",
       "      <td>1981-01-06</td>\n",
       "      <td>15.8</td>\n",
       "      <td>15.8</td>\n",
       "      <td>20.7</td>\n",
       "      <td>15.8</td>\n",
       "      <td>16.2</td>\n",
       "    </tr>\n",
       "    <tr>\n",
       "      <td>1981-01-07</td>\n",
       "      <td>1981-01-07</td>\n",
       "      <td>15.8</td>\n",
       "      <td>15.8</td>\n",
       "      <td>17.9</td>\n",
       "      <td>17.4</td>\n",
       "      <td>13.3</td>\n",
       "    </tr>\n",
       "    <tr>\n",
       "      <td>1981-01-08</td>\n",
       "      <td>1981-01-08</td>\n",
       "      <td>17.4</td>\n",
       "      <td>15.8</td>\n",
       "      <td>18.8</td>\n",
       "      <td>21.8</td>\n",
       "      <td>16.7</td>\n",
       "    </tr>\n",
       "    <tr>\n",
       "      <td>1981-01-09</td>\n",
       "      <td>1981-01-09</td>\n",
       "      <td>21.8</td>\n",
       "      <td>17.4</td>\n",
       "      <td>14.6</td>\n",
       "      <td>20.0</td>\n",
       "      <td>21.5</td>\n",
       "    </tr>\n",
       "    <tr>\n",
       "      <td>1981-01-10</td>\n",
       "      <td>1981-01-10</td>\n",
       "      <td>20.0</td>\n",
       "      <td>21.8</td>\n",
       "      <td>15.8</td>\n",
       "      <td>16.2</td>\n",
       "      <td>25.0</td>\n",
       "    </tr>\n",
       "  </tbody>\n",
       "</table>\n",
       "</div>"
      ],
      "text/plain": [
       "                  Date  Temp  Temp_L1  Temp_L7  Temp_F1  Temp_F7\n",
       "Date                                                            \n",
       "1981-01-01  1981-01-01  20.7      NaN      NaN     17.9     15.8\n",
       "1981-01-02  1981-01-02  17.9     20.7      NaN     18.8     15.8\n",
       "1981-01-03  1981-01-03  18.8     17.9      NaN     14.6     17.4\n",
       "1981-01-04  1981-01-04  14.6     18.8      NaN     15.8     21.8\n",
       "1981-01-05  1981-01-05  15.8     14.6      NaN     15.8     20.0\n",
       "1981-01-06  1981-01-06  15.8     15.8     20.7     15.8     16.2\n",
       "1981-01-07  1981-01-07  15.8     15.8     17.9     17.4     13.3\n",
       "1981-01-08  1981-01-08  17.4     15.8     18.8     21.8     16.7\n",
       "1981-01-09  1981-01-09  21.8     17.4     14.6     20.0     21.5\n",
       "1981-01-10  1981-01-10  20.0     21.8     15.8     16.2     25.0"
      ]
     },
     "execution_count": 37,
     "metadata": {},
     "output_type": "execute_result"
    }
   ],
   "source": [
    "# Generate lags: 1 period and 5 periods\n",
    "df2[\"Temp_L1\"] = df2[\"Temp\"].shift(1)\n",
    "df2[\"Temp_L7\"] = df2[\"Temp\"].shift(5)\n",
    "\n",
    "# Generate leads: 1 period and 5 periods\n",
    "df2[\"Temp_F1\"] = df2[\"Temp\"].shift(-1)\n",
    "df2[\"Temp_F7\"] = df2[\"Temp\"].shift(-5)\n",
    "\n",
    "df2.head(10)"
   ]
  },
  {
   "cell_type": "code",
   "execution_count": 38,
   "metadata": {},
   "outputs": [
    {
     "data": {
      "text/html": [
       "<div>\n",
       "<style scoped>\n",
       "    .dataframe tbody tr th:only-of-type {\n",
       "        vertical-align: middle;\n",
       "    }\n",
       "\n",
       "    .dataframe tbody tr th {\n",
       "        vertical-align: top;\n",
       "    }\n",
       "\n",
       "    .dataframe thead th {\n",
       "        text-align: right;\n",
       "    }\n",
       "</style>\n",
       "<table border=\"1\" class=\"dataframe\">\n",
       "  <thead>\n",
       "    <tr style=\"text-align: right;\">\n",
       "      <th></th>\n",
       "      <th>Date</th>\n",
       "      <th>Temp</th>\n",
       "      <th>Temp_F1</th>\n",
       "      <th>Temp_F7</th>\n",
       "    </tr>\n",
       "    <tr>\n",
       "      <th>Date</th>\n",
       "      <th></th>\n",
       "      <th></th>\n",
       "      <th></th>\n",
       "      <th></th>\n",
       "    </tr>\n",
       "  </thead>\n",
       "  <tbody>\n",
       "    <tr>\n",
       "      <td>1990-12-22</td>\n",
       "      <td>1990-12-22</td>\n",
       "      <td>13.2</td>\n",
       "      <td>13.9</td>\n",
       "      <td>14.0</td>\n",
       "    </tr>\n",
       "    <tr>\n",
       "      <td>1990-12-23</td>\n",
       "      <td>1990-12-23</td>\n",
       "      <td>13.9</td>\n",
       "      <td>10.0</td>\n",
       "      <td>13.6</td>\n",
       "    </tr>\n",
       "    <tr>\n",
       "      <td>1990-12-24</td>\n",
       "      <td>1990-12-24</td>\n",
       "      <td>10.0</td>\n",
       "      <td>12.9</td>\n",
       "      <td>13.5</td>\n",
       "    </tr>\n",
       "    <tr>\n",
       "      <td>1990-12-25</td>\n",
       "      <td>1990-12-25</td>\n",
       "      <td>12.9</td>\n",
       "      <td>14.6</td>\n",
       "      <td>15.7</td>\n",
       "    </tr>\n",
       "    <tr>\n",
       "      <td>1990-12-26</td>\n",
       "      <td>1990-12-26</td>\n",
       "      <td>14.6</td>\n",
       "      <td>14.0</td>\n",
       "      <td>13.0</td>\n",
       "    </tr>\n",
       "    <tr>\n",
       "      <td>1990-12-27</td>\n",
       "      <td>1990-12-27</td>\n",
       "      <td>14.0</td>\n",
       "      <td>13.6</td>\n",
       "      <td>NaN</td>\n",
       "    </tr>\n",
       "    <tr>\n",
       "      <td>1990-12-28</td>\n",
       "      <td>1990-12-28</td>\n",
       "      <td>13.6</td>\n",
       "      <td>13.5</td>\n",
       "      <td>NaN</td>\n",
       "    </tr>\n",
       "    <tr>\n",
       "      <td>1990-12-29</td>\n",
       "      <td>1990-12-29</td>\n",
       "      <td>13.5</td>\n",
       "      <td>15.7</td>\n",
       "      <td>NaN</td>\n",
       "    </tr>\n",
       "    <tr>\n",
       "      <td>1990-12-30</td>\n",
       "      <td>1990-12-30</td>\n",
       "      <td>15.7</td>\n",
       "      <td>13.0</td>\n",
       "      <td>NaN</td>\n",
       "    </tr>\n",
       "    <tr>\n",
       "      <td>1990-12-31</td>\n",
       "      <td>1990-12-31</td>\n",
       "      <td>13.0</td>\n",
       "      <td>NaN</td>\n",
       "      <td>NaN</td>\n",
       "    </tr>\n",
       "  </tbody>\n",
       "</table>\n",
       "</div>"
      ],
      "text/plain": [
       "                  Date  Temp  Temp_F1  Temp_F7\n",
       "Date                                          \n",
       "1990-12-22  1990-12-22  13.2     13.9     14.0\n",
       "1990-12-23  1990-12-23  13.9     10.0     13.6\n",
       "1990-12-24  1990-12-24  10.0     12.9     13.5\n",
       "1990-12-25  1990-12-25  12.9     14.6     15.7\n",
       "1990-12-26  1990-12-26  14.6     14.0     13.0\n",
       "1990-12-27  1990-12-27  14.0     13.6      NaN\n",
       "1990-12-28  1990-12-28  13.6     13.5      NaN\n",
       "1990-12-29  1990-12-29  13.5     15.7      NaN\n",
       "1990-12-30  1990-12-30  15.7     13.0      NaN\n",
       "1990-12-31  1990-12-31  13.0      NaN      NaN"
      ]
     },
     "execution_count": 38,
     "metadata": {},
     "output_type": "execute_result"
    }
   ],
   "source": [
    "# Generate leads: 1 period and 5 periods\n",
    "df2[\"Temp_F1\"] = df2[\"Temp\"].shift(-1)\n",
    "df2[\"Temp_F7\"] = df2[\"Temp\"].shift(-5)\n",
    "\n",
    "df2.drop([\"Temp_L1\", \"Temp_L7\"], axis=1).tail(10)"
   ]
  },
  {
   "cell_type": "markdown",
   "metadata": {},
   "source": [
    "## Generating dummy variables for dates"
   ]
  },
  {
   "cell_type": "code",
   "execution_count": 39,
   "metadata": {},
   "outputs": [
    {
     "data": {
      "text/html": [
       "<div>\n",
       "<style scoped>\n",
       "    .dataframe tbody tr th:only-of-type {\n",
       "        vertical-align: middle;\n",
       "    }\n",
       "\n",
       "    .dataframe tbody tr th {\n",
       "        vertical-align: top;\n",
       "    }\n",
       "\n",
       "    .dataframe thead th {\n",
       "        text-align: right;\n",
       "    }\n",
       "</style>\n",
       "<table border=\"1\" class=\"dataframe\">\n",
       "  <thead>\n",
       "    <tr style=\"text-align: right;\">\n",
       "      <th></th>\n",
       "      <th>customer_id</th>\n",
       "      <th>date</th>\n",
       "      <th>birthday</th>\n",
       "    </tr>\n",
       "  </thead>\n",
       "  <tbody>\n",
       "    <tr>\n",
       "      <td>2019-01-01</td>\n",
       "      <td>1</td>\n",
       "      <td>2019-01-01</td>\n",
       "      <td>2019-01-01</td>\n",
       "    </tr>\n",
       "    <tr>\n",
       "      <td>2019-01-02</td>\n",
       "      <td>2</td>\n",
       "      <td>2019-01-02</td>\n",
       "      <td>2019-01-01</td>\n",
       "    </tr>\n",
       "    <tr>\n",
       "      <td>2019-01-03</td>\n",
       "      <td>3</td>\n",
       "      <td>2019-01-03</td>\n",
       "      <td>2019-01-01</td>\n",
       "    </tr>\n",
       "    <tr>\n",
       "      <td>2019-01-04</td>\n",
       "      <td>4</td>\n",
       "      <td>2019-01-04</td>\n",
       "      <td>2019-01-01</td>\n",
       "    </tr>\n",
       "    <tr>\n",
       "      <td>2019-01-05</td>\n",
       "      <td>5</td>\n",
       "      <td>2019-01-05</td>\n",
       "      <td>2019-01-05</td>\n",
       "    </tr>\n",
       "    <tr>\n",
       "      <td>2019-01-06</td>\n",
       "      <td>6</td>\n",
       "      <td>2019-01-06</td>\n",
       "      <td>2019-01-05</td>\n",
       "    </tr>\n",
       "    <tr>\n",
       "      <td>2019-01-07</td>\n",
       "      <td>7</td>\n",
       "      <td>2019-01-07</td>\n",
       "      <td>2019-01-07</td>\n",
       "    </tr>\n",
       "    <tr>\n",
       "      <td>2019-01-08</td>\n",
       "      <td>8</td>\n",
       "      <td>2019-01-08</td>\n",
       "      <td>2019-01-07</td>\n",
       "    </tr>\n",
       "    <tr>\n",
       "      <td>2019-01-09</td>\n",
       "      <td>9</td>\n",
       "      <td>2019-01-09</td>\n",
       "      <td>2019-01-07</td>\n",
       "    </tr>\n",
       "    <tr>\n",
       "      <td>2019-01-10</td>\n",
       "      <td>10</td>\n",
       "      <td>2019-01-10</td>\n",
       "      <td>2019-01-07</td>\n",
       "    </tr>\n",
       "    <tr>\n",
       "      <td>2019-01-11</td>\n",
       "      <td>11</td>\n",
       "      <td>2019-01-11</td>\n",
       "      <td>2019-01-07</td>\n",
       "    </tr>\n",
       "    <tr>\n",
       "      <td>2019-01-12</td>\n",
       "      <td>12</td>\n",
       "      <td>2019-01-12</td>\n",
       "      <td>2019-01-12</td>\n",
       "    </tr>\n",
       "  </tbody>\n",
       "</table>\n",
       "</div>"
      ],
      "text/plain": [
       "            customer_id        date    birthday\n",
       "2019-01-01            1  2019-01-01  2019-01-01\n",
       "2019-01-02            2  2019-01-02  2019-01-01\n",
       "2019-01-03            3  2019-01-03  2019-01-01\n",
       "2019-01-04            4  2019-01-04  2019-01-01\n",
       "2019-01-05            5  2019-01-05  2019-01-05\n",
       "2019-01-06            6  2019-01-06  2019-01-05\n",
       "2019-01-07            7  2019-01-07  2019-01-07\n",
       "2019-01-08            8  2019-01-08  2019-01-07\n",
       "2019-01-09            9  2019-01-09  2019-01-07\n",
       "2019-01-10           10  2019-01-10  2019-01-07\n",
       "2019-01-11           11  2019-01-11  2019-01-07\n",
       "2019-01-12           12  2019-01-12  2019-01-12"
      ]
     },
     "execution_count": 39,
     "metadata": {},
     "output_type": "execute_result"
    }
   ],
   "source": [
    "# Generate a dataframe with three columns: customer_id, date, birthday\n",
    "\n",
    "dates = [\"2019-01-01\", \"2019-01-05\", \"2019-01-07\", \"2019-01-12\"]\n",
    "ts = pd.Series(dates, index=dates)\n",
    "ts.index = pd.to_datetime(ts.index).to_period(\"D\")\n",
    "gapless_index = pd.period_range(ts.index[0], ts.index[-1])\n",
    "ts = ts.reindex(index=gapless_index).fillna(method=\"ffill\")\n",
    "\n",
    "df = pd.DataFrame({\"customer_id\": range(1, 13),\n",
    "                   \"date\": ts.index.astype(str), \n",
    "                   \"birthday\": ts})\n",
    "df"
   ]
  },
  {
   "cell_type": "code",
   "execution_count": 40,
   "metadata": {},
   "outputs": [
    {
     "data": {
      "text/html": [
       "<div>\n",
       "<style scoped>\n",
       "    .dataframe tbody tr th:only-of-type {\n",
       "        vertical-align: middle;\n",
       "    }\n",
       "\n",
       "    .dataframe tbody tr th {\n",
       "        vertical-align: top;\n",
       "    }\n",
       "\n",
       "    .dataframe thead th {\n",
       "        text-align: right;\n",
       "    }\n",
       "</style>\n",
       "<table border=\"1\" class=\"dataframe\">\n",
       "  <thead>\n",
       "    <tr style=\"text-align: right;\">\n",
       "      <th></th>\n",
       "      <th>customer_id</th>\n",
       "      <th>date</th>\n",
       "      <th>birthday</th>\n",
       "      <th>is_birthday</th>\n",
       "    </tr>\n",
       "  </thead>\n",
       "  <tbody>\n",
       "    <tr>\n",
       "      <td>2019-01-01</td>\n",
       "      <td>1</td>\n",
       "      <td>2019-01-01</td>\n",
       "      <td>2019-01-01</td>\n",
       "      <td>True</td>\n",
       "    </tr>\n",
       "    <tr>\n",
       "      <td>2019-01-02</td>\n",
       "      <td>2</td>\n",
       "      <td>2019-01-02</td>\n",
       "      <td>2019-01-01</td>\n",
       "      <td>False</td>\n",
       "    </tr>\n",
       "    <tr>\n",
       "      <td>2019-01-03</td>\n",
       "      <td>3</td>\n",
       "      <td>2019-01-03</td>\n",
       "      <td>2019-01-01</td>\n",
       "      <td>False</td>\n",
       "    </tr>\n",
       "    <tr>\n",
       "      <td>2019-01-04</td>\n",
       "      <td>4</td>\n",
       "      <td>2019-01-04</td>\n",
       "      <td>2019-01-01</td>\n",
       "      <td>False</td>\n",
       "    </tr>\n",
       "    <tr>\n",
       "      <td>2019-01-05</td>\n",
       "      <td>5</td>\n",
       "      <td>2019-01-05</td>\n",
       "      <td>2019-01-05</td>\n",
       "      <td>True</td>\n",
       "    </tr>\n",
       "    <tr>\n",
       "      <td>2019-01-06</td>\n",
       "      <td>6</td>\n",
       "      <td>2019-01-06</td>\n",
       "      <td>2019-01-05</td>\n",
       "      <td>False</td>\n",
       "    </tr>\n",
       "    <tr>\n",
       "      <td>2019-01-07</td>\n",
       "      <td>7</td>\n",
       "      <td>2019-01-07</td>\n",
       "      <td>2019-01-07</td>\n",
       "      <td>True</td>\n",
       "    </tr>\n",
       "    <tr>\n",
       "      <td>2019-01-08</td>\n",
       "      <td>8</td>\n",
       "      <td>2019-01-08</td>\n",
       "      <td>2019-01-07</td>\n",
       "      <td>False</td>\n",
       "    </tr>\n",
       "    <tr>\n",
       "      <td>2019-01-09</td>\n",
       "      <td>9</td>\n",
       "      <td>2019-01-09</td>\n",
       "      <td>2019-01-07</td>\n",
       "      <td>False</td>\n",
       "    </tr>\n",
       "    <tr>\n",
       "      <td>2019-01-10</td>\n",
       "      <td>10</td>\n",
       "      <td>2019-01-10</td>\n",
       "      <td>2019-01-07</td>\n",
       "      <td>False</td>\n",
       "    </tr>\n",
       "    <tr>\n",
       "      <td>2019-01-11</td>\n",
       "      <td>11</td>\n",
       "      <td>2019-01-11</td>\n",
       "      <td>2019-01-07</td>\n",
       "      <td>False</td>\n",
       "    </tr>\n",
       "    <tr>\n",
       "      <td>2019-01-12</td>\n",
       "      <td>12</td>\n",
       "      <td>2019-01-12</td>\n",
       "      <td>2019-01-12</td>\n",
       "      <td>True</td>\n",
       "    </tr>\n",
       "  </tbody>\n",
       "</table>\n",
       "</div>"
      ],
      "text/plain": [
       "            customer_id        date    birthday  is_birthday\n",
       "2019-01-01            1  2019-01-01  2019-01-01         True\n",
       "2019-01-02            2  2019-01-02  2019-01-01        False\n",
       "2019-01-03            3  2019-01-03  2019-01-01        False\n",
       "2019-01-04            4  2019-01-04  2019-01-01        False\n",
       "2019-01-05            5  2019-01-05  2019-01-05         True\n",
       "2019-01-06            6  2019-01-06  2019-01-05        False\n",
       "2019-01-07            7  2019-01-07  2019-01-07         True\n",
       "2019-01-08            8  2019-01-08  2019-01-07        False\n",
       "2019-01-09            9  2019-01-09  2019-01-07        False\n",
       "2019-01-10           10  2019-01-10  2019-01-07        False\n",
       "2019-01-11           11  2019-01-11  2019-01-07        False\n",
       "2019-01-12           12  2019-01-12  2019-01-12         True"
      ]
     },
     "execution_count": 40,
     "metadata": {},
     "output_type": "execute_result"
    }
   ],
   "source": [
    "# Generate dummy is_birthday\n",
    "\n",
    "df[\"is_birthday\"] = df[\"date\"] == df[\"birthday\"]\n",
    "\n",
    "df"
   ]
  },
  {
   "cell_type": "markdown",
   "metadata": {},
   "source": [
    "## Smoothing time series with rolling means"
   ]
  },
  {
   "cell_type": "code",
   "execution_count": 41,
   "metadata": {},
   "outputs": [],
   "source": [
    "# Get time series with PeriodIndex\n",
    "df = pd.read_csv(\"data/daily-min-temperatures.csv\")\n",
    "\n",
    "ts = df.copy()\n",
    "ts.index = pd.to_datetime(ts[\"Date\"])\n",
    "ts.index = ts.index.to_period(\"D\")\n",
    "ts = ts[\"Temp\"]"
   ]
  },
  {
   "cell_type": "code",
   "execution_count": 47,
   "metadata": {},
   "outputs": [
    {
     "data": {
      "image/png": "[encoded data removed]",
      "text/plain": [
       "<Figure size 1080x360 with 1 Axes>"
      ]
     },
     "metadata": {},
     "output_type": "display_data"
    }
   ],
   "source": [
    "# Rolling mean (window = 15)\n",
    "rolling_mean = ts.rolling(15, center=True).mean().rename(\"rolling mean\")\n",
    "viz.plot_series(ts[\"1988\":], rolling_mean[\"1988\":])"
   ]
  },
  {
   "cell_type": "code",
   "execution_count": 46,
   "metadata": {},
   "outputs": [
    {
     "data": {
      "image/png": "[encoded data removed]",
      "text/plain": [
       "<Figure size 1080x360 with 1 Axes>"
      ]
     },
     "metadata": {},
     "output_type": "display_data"
    }
   ],
   "source": [
    "# Rolling mean (window = 60)\n",
    "rolling_mean = ts.rolling(60, center=True).mean().rename(\"rolling mean\")\n",
    "viz.plot_series(ts[\"1988\":], rolling_mean[\"1988\":])"
   ]
  },
  {
   "cell_type": "code",
   "execution_count": 48,
   "metadata": {},
   "outputs": [
    {
     "data": {
      "image/png": "[encoded data removed]",
      "text/plain": [
       "<Figure size 1080x360 with 1 Axes>"
      ]
     },
     "metadata": {},
     "output_type": "display_data"
    }
   ],
   "source": [
    "# Gaussian rolling mean (window = 30, standard deviation = 5)\n",
    "rolling_mean = ts.rolling(30, center=True, win_type=\"gaussian\").mean(std=5).rename(\"rolling mean\")\n",
    "viz.plot_series(ts[\"1988\":], rolling_mean[\"1988\":])"
   ]
  },
  {
   "cell_type": "code",
   "execution_count": 49,
   "metadata": {},
   "outputs": [
    {
     "data": {
      "image/png": "[encoded data removed]",
      "text/plain": [
       "<Figure size 1080x360 with 1 Axes>"
      ]
     },
     "metadata": {},
     "output_type": "display_data"
    }
   ],
   "source": [
    "# Gaussian rolling mean (window = 30, standard deviation = 10)\n",
    "rolling_mean = ts.rolling(30, center=True, win_type=\"gaussian\").mean(std=10).rename(\"rolling mean\")\n",
    "viz.plot_series(ts[\"1988\":], rolling_mean[\"1988\":])"
   ]
  },
  {
   "cell_type": "markdown",
   "metadata": {},
   "source": [
    "## Differencing time series\n",
    "\n",
    "Several time series forecasting algorithms require stationary time series. Computing the first/second/third/... differences of a time series is one way to achieve that."
   ]
  },
  {
   "cell_type": "code",
   "execution_count": 50,
   "metadata": {},
   "outputs": [
    {
     "data": {
      "text/plain": [
       "Date\n",
       "1981-01-01    20.7\n",
       "1981-01-02    17.9\n",
       "1981-01-03    18.8\n",
       "1981-01-04    14.6\n",
       "1981-01-05    15.8\n",
       "              ... \n",
       "1990-12-27    14.0\n",
       "1990-12-28    13.6\n",
       "1990-12-29    13.5\n",
       "1990-12-30    15.7\n",
       "1990-12-31    13.0\n",
       "Freq: D, Name: Temp, Length: 3650, dtype: float64"
      ]
     },
     "execution_count": 50,
     "metadata": {},
     "output_type": "execute_result"
    }
   ],
   "source": [
    "# Get time series \n",
    "\n",
    "ts = df.copy()\n",
    "ts.index = pd.to_datetime(ts[\"Date\"])\n",
    "ts.index = ts.index.to_period(\"D\")\n",
    "ts = ts[\"Temp\"]\n",
    "\n",
    "ts"
   ]
  },
  {
   "cell_type": "code",
   "execution_count": 51,
   "metadata": {},
   "outputs": [
    {
     "data": {
      "text/plain": [
       "Date\n",
       "1981-01-01    NaN\n",
       "1981-01-02   -2.8\n",
       "1981-01-03    0.9\n",
       "1981-01-04   -4.2\n",
       "1981-01-05    1.2\n",
       "             ... \n",
       "1990-12-27   -0.6\n",
       "1990-12-28   -0.4\n",
       "1990-12-29   -0.1\n",
       "1990-12-30    2.2\n",
       "1990-12-31   -2.7\n",
       "Freq: D, Length: 3650, dtype: float64"
      ]
     },
     "execution_count": 51,
     "metadata": {},
     "output_type": "execute_result"
    }
   ],
   "source": [
    "# First differences\n",
    "ts_diff1 = pd.Series(np.diff(ts, n=1), index=ts.index[1:]).reindex(index=ts.index)\n",
    "\n",
    "ts_diff1"
   ]
  },
  {
   "cell_type": "code",
   "execution_count": 52,
   "metadata": {},
   "outputs": [
    {
     "data": {
      "text/plain": [
       "Date\n",
       "1981-01-01    NaN\n",
       "1981-01-02    NaN\n",
       "1981-01-03    3.7\n",
       "1981-01-04   -5.1\n",
       "1981-01-05    5.4\n",
       "             ... \n",
       "1990-12-27   -2.3\n",
       "1990-12-28    0.2\n",
       "1990-12-29    0.3\n",
       "1990-12-30    2.3\n",
       "1990-12-31   -4.9\n",
       "Freq: D, Length: 3650, dtype: float64"
      ]
     },
     "execution_count": 52,
     "metadata": {},
     "output_type": "execute_result"
    }
   ],
   "source": [
    "# Second differences\n",
    "ts_diff1 = pd.Series(np.diff(ts, n=2), index=ts.index[2:]).reindex(index=ts.index)\n",
    "\n",
    "ts_diff1"
   ]
  },
  {
   "cell_type": "markdown",
   "metadata": {},
   "source": [
    "## Handling time zones"
   ]
  },
  {
   "cell_type": "code",
   "execution_count": null,
   "metadata": {},
   "outputs": [],
   "source": [
    "# TBD"
   ]
  }
 ],
 "metadata": {
  "kernelspec": {
   "display_name": "Python 3",
   "language": "python",
   "name": "python3"
  },
  "language_info": {
   "codemirror_mode": {
    "name": "ipython",
    "version": 3
   },
   "file_extension": ".py",
   "mimetype": "text/x-python",
   "name": "python",
   "nbconvert_exporter": "python",
   "pygments_lexer": "ipython3",
   "version": "3.7.5"
  }
 },
 "nbformat": 4,
 "nbformat_minor": 2
}
